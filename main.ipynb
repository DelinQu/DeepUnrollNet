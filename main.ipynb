{
 "cells": [
  {
   "cell_type": "markdown",
   "id": "204def29",
   "metadata": {},
   "source": [
    "## Prepare"
   ]
  },
  {
   "cell_type": "code",
   "execution_count": null,
   "id": "69586af6",
   "metadata": {},
   "outputs": [],
   "source": [
    "!git clone https://github.com/ethliup/DeepUnrollNet.git\n",
    "!pip install gdown"
   ]
  },
  {
   "cell_type": "markdown",
   "id": "60b6459f",
   "metadata": {},
   "source": [
    "To train or test the model, you need to install the dependent packages via"
   ]
  },
  {
   "cell_type": "code",
   "execution_count": null,
   "id": "e4bfafb5",
   "metadata": {},
   "outputs": [],
   "source": [
    "%cd DeepUnrollNet/\n",
    "!pip install meshzoo==0.4.3"
   ]
  },
  {
   "cell_type": "markdown",
   "id": "dbb0f8e1",
   "metadata": {},
   "source": [
    "Install correlation package"
   ]
  },
  {
   "cell_type": "code",
   "execution_count": null,
   "id": "a58429fe",
   "metadata": {},
   "outputs": [],
   "source": [
    "%cd ./package_correlation\n",
    "!python setup.py install\n",
    "%cd .."
   ]
  },
  {
   "cell_type": "markdown",
   "id": "813879fc",
   "metadata": {},
   "source": [
    "Install differentiable forward warping package"
   ]
  },
  {
   "cell_type": "code",
   "execution_count": null,
   "id": "485cc838",
   "metadata": {},
   "outputs": [],
   "source": [
    "%cd ./package_forward_warp/\n",
    "!python setup.py install\n",
    "%cd .."
   ]
  },
  {
   "cell_type": "markdown",
   "id": "6d38cac7",
   "metadata": {},
   "source": [
    "Install core package"
   ]
  },
  {
   "cell_type": "code",
   "execution_count": null,
   "id": "aac21aee",
   "metadata": {},
   "outputs": [],
   "source": [
    "%cd ./package_core\n",
    "!python setup.py install\n",
    "%cd .."
   ]
  },
  {
   "cell_type": "markdown",
   "id": "27c37034",
   "metadata": {},
   "source": [
    "## Demo with our pretrained model"
   ]
  },
  {
   "cell_type": "markdown",
   "id": "fc5a67fa",
   "metadata": {},
   "source": [
    "demo"
   ]
  },
  {
   "cell_type": "code",
   "execution_count": null,
   "id": "e422893e",
   "metadata": {},
   "outputs": [],
   "source": [
    "!sh demo.sh"
   ]
  },
  {
   "cell_type": "markdown",
   "id": "51e99c95",
   "metadata": {},
   "source": [
    "## Inference with my own code"
   ]
  },
  {
   "cell_type": "markdown",
   "id": "ca2b286c",
   "metadata": {},
   "source": [
    "unzip drsc data"
   ]
  },
  {
   "cell_type": "code",
   "execution_count": 9,
   "id": "f970416c",
   "metadata": {
    "collapsed": true
   },
   "outputs": [
    {
     "name": "stdout",
     "output_type": "stream",
     "text": [
      "[Errno 2] No such file or directory: 'dataset/Drsc'\n",
      "/home/qdl/Downloads/DeepUnrollNet\n",
      "unzip:  cannot find or open originzip, originzip.zip or originzip.ZIP.\n",
      "/home/qdl\n"
     ]
    }
   ],
   "source": [
    "%cd dataset/Drsc\n",
    "!unzip originzip\n",
    "%cd ../../"
   ]
  },
  {
   "cell_type": "markdown",
   "id": "55b5398d",
   "metadata": {},
   "source": [
    "Inference drsc image"
   ]
  },
  {
   "cell_type": "code",
   "execution_count": null,
   "id": "763b78d8",
   "metadata": {},
   "outputs": [],
   "source": [
    "!sh "
   ]
  }
 ],
 "metadata": {
  "kernelspec": {
   "display_name": "Python 3 (ipykernel)",
   "language": "python",
   "name": "python3"
  },
  "language_info": {
   "codemirror_mode": {
    "name": "ipython",
    "version": 3
   },
   "file_extension": ".py",
   "mimetype": "text/x-python",
   "name": "python",
   "nbconvert_exporter": "python",
   "pygments_lexer": "ipython3",
   "version": "3.8.10"
  }
 },
 "nbformat": 4,
 "nbformat_minor": 5
}
