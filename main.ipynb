{
 "cells": [
  {
   "cell_type": "markdown",
   "id": "204def29",
   "metadata": {},
   "source": [
    "## Prepare"
   ]
  },
  {
   "cell_type": "markdown",
   "id": "60b6459f",
   "metadata": {},
   "source": [
    "To train or test the model, you need to install the dependent packages via"
   ]
  },
  {
   "cell_type": "code",
   "execution_count": null,
   "id": "e4bfafb5",
   "metadata": {},
   "outputs": [],
   "source": [
    "%cd DeepUnrollNet/\n",
    "%pip install meshzoo==0.4.3"
   ]
  },
  {
   "cell_type": "markdown",
   "id": "dbb0f8e1",
   "metadata": {},
   "source": [
    "Install correlation package"
   ]
  },
  {
   "cell_type": "code",
   "execution_count": null,
   "id": "a58429fe",
   "metadata": {},
   "outputs": [],
   "source": [
    "%cd ./package_correlation\n",
    "!python setup.py install\n",
    "%cd .."
   ]
  },
  {
   "cell_type": "markdown",
   "id": "813879fc",
   "metadata": {},
   "source": [
    "Install differentiable forward warping package"
   ]
  },
  {
   "cell_type": "code",
   "execution_count": null,
   "id": "485cc838",
   "metadata": {},
   "outputs": [],
   "source": [
    "%cd ./package_forward_warp/\n",
    "!python setup.py install\n",
    "%cd .."
   ]
  },
  {
   "cell_type": "markdown",
   "id": "6d38cac7",
   "metadata": {},
   "source": [
    "Install core package"
   ]
  },
  {
   "cell_type": "code",
   "execution_count": null,
   "id": "aac21aee",
   "metadata": {},
   "outputs": [],
   "source": [
    "%cd ./package_core\n",
    "!python setup.py install\n",
    "%cd .."
   ]
  },
  {
   "cell_type": "markdown",
   "id": "51e99c95",
   "metadata": {},
   "source": [
    "## Inference inliners"
   ]
  },
  {
   "cell_type": "code",
   "execution_count": null,
   "id": "7d17d1b3",
   "metadata": {},
   "outputs": [],
   "source": []
  },
  {
   "cell_type": "code",
   "execution_count": null,
   "id": "f66e4243",
   "metadata": {},
   "outputs": [],
   "source": []
  },
  {
   "cell_type": "code",
   "execution_count": null,
   "id": "9d5bd4e8",
   "metadata": {},
   "outputs": [],
   "source": []
  }
 ],
 "metadata": {
  "kernelspec": {
   "display_name": "Python 3 (ipykernel)",
   "language": "python",
   "name": "python3"
  },
  "language_info": {
   "codemirror_mode": {
    "name": "ipython",
    "version": 3
   },
   "file_extension": ".py",
   "mimetype": "text/x-python",
   "name": "python",
   "nbconvert_exporter": "python",
   "pygments_lexer": "ipython3",
   "version": "3.8.10"
  }
 },
 "nbformat": 4,
 "nbformat_minor": 5
}
